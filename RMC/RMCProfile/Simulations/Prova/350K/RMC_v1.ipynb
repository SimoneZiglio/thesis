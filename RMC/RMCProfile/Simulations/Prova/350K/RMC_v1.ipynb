version https://git-lfs.github.com/spec/v1
oid sha256:1d933b0ab275e5614da99ddc5aa6e2c48d4096975fd3780821d188b9af58b9c2
size 1556511
