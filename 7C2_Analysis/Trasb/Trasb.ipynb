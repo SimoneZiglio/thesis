{
 "cells": [
  {
   "cell_type": "code",
   "execution_count": 1,
   "metadata": {},
   "outputs": [
    {
     "name": "stderr",
     "output_type": "stream",
     "text": [
      "/tmp/ipykernel_15852/2680518683.py:47: RuntimeWarning: invalid value encountered in sqrt\n",
      "  Y = np.where(X < RC, np.sqrt(RC2 - X2), 0.0)\n"
     ]
    },
    {
     "name": "stdout",
     "output_type": "stream",
     "text": [
      "TRASM = 0.8009\n"
     ]
    }
   ],
   "source": [
    "import numpy as np\n",
    "\n",
    "def read_input(file_path):\n",
    "    \"\"\"Reads input data from the specified file and returns parsed values.\"\"\"\n",
    "    try:\n",
    "        with open(file_path, 'r') as file:\n",
    "            lines = file.readlines()\n",
    "    except FileNotFoundError:\n",
    "        raise FileNotFoundError(f\"The file {file_path} does not exist.\")\n",
    "\n",
    "    try:\n",
    "        # Extract values from the second line, splitting by whitespace and converting to appropriate types\n",
    "        values = lines[1].strip().split()\n",
    "        DNCIL = int(float(values[0]))\n",
    "        DNP = int(float(values[1]))\n",
    "        DNIN = int(float(values[2]))\n",
    "\n",
    "        RC = []\n",
    "        MU = []\n",
    "        for line in lines[3:3 + DNCIL]:\n",
    "            r, m = map(float, line.split())\n",
    "            RC.append(r)\n",
    "            MU.append(m)\n",
    "\n",
    "    except (IndexError, ValueError) as e:\n",
    "        raise ValueError(f\"Error parsing the input file: {e}\")\n",
    "\n",
    "    return DNCIL, DNP, DNIN, np.array(RC), np.array(MU)\n",
    "\n",
    "def calculate_trasm(DNCIL, DNP, DNIN, RC, MU):\n",
    "    \"\"\"Calculates the TRASM value based on the given parameters.\"\"\"\n",
    "    if DNP > 199999:\n",
    "        raise ValueError(\"DNP cannot be greater than 199999.\")\n",
    "\n",
    "    # Ensure NP is odd\n",
    "    NP = DNP if DNP % 2 != 0 else DNP + 1\n",
    "    NPM = NP - 1\n",
    "    DX = RC[DNIN - 1] / NPM\n",
    "\n",
    "    # Calculate RC squared values\n",
    "    RC2 = RC ** 2\n",
    "\n",
    "    F = np.zeros(NP)\n",
    "    for IX in range(NP):\n",
    "        X = DX * (IX - 1) - 1.e-06\n",
    "        X2 = X * X\n",
    "        Y = np.where(X < RC, np.sqrt(RC2 - X2), 0.0)\n",
    "        \n",
    "        XE = np.dot(np.diff(Y, prepend=0), MU)\n",
    "        XE *= 2.0\n",
    "\n",
    "        F[IX] = np.exp(-XE)\n",
    "\n",
    "    TRASM = F[0] + F[NPM] + 4.0 * F[NPM]\n",
    "\n",
    "    # Correct the summation ranges to ensure proper broadcasting\n",
    "    TRASM += np.sum(4.0 * F[1:NPM:2]) + np.sum(2.0 * F[2:NPM-1:2])\n",
    "    TRASM = TRASM * DX / (3.0 * RC[DNIN - 1])\n",
    "\n",
    "    return TRASM\n",
    "\n",
    "def main():\n",
    "    \"\"\"Main function to read input data and calculate TRASM.\"\"\"\n",
    "    file_path = './TrasbIN.txt'\n",
    "    DNCIL, DNP, DNIN, RC, MU = read_input(file_path)\n",
    "    TRASM = calculate_trasm(DNCIL, DNP, DNIN, RC, MU)\n",
    "    print(f\"TRASM = {TRASM:.4f}\")\n",
    "\n",
    "if __name__ == \"__main__\":\n",
    "    main()\n"
   ]
  },
  {
   "cell_type": "code",
   "execution_count": null,
   "metadata": {},
   "outputs": [],
   "source": []
  }
 ],
 "metadata": {
  "kernelspec": {
   "display_name": "base",
   "language": "python",
   "name": "python3"
  },
  "language_info": {
   "codemirror_mode": {
    "name": "ipython",
    "version": 3
   },
   "file_extension": ".py",
   "mimetype": "text/x-python",
   "name": "python",
   "nbconvert_exporter": "python",
   "pygments_lexer": "ipython3",
   "version": "3.11.0"
  }
 },
 "nbformat": 4,
 "nbformat_minor": 2
}
